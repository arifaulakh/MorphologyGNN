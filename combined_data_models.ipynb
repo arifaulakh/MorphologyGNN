{
 "cells": [
  {
   "cell_type": "code",
   "execution_count": 1,
   "metadata": {},
   "outputs": [],
   "source": [
    "import numpy as np\n",
    "import networkx as nx\n",
    "import matplotlib.pyplot as plt\n",
    "from morphopy.computation import file_manager as fm\n",
    "from morphopy.neurontree import NeuronTree as nt\n",
    "from torch_geometric.utils.convert import from_networkx\n",
    "from torch_geometric.data import Dataset, Data\n",
    "import pandas as pd\n",
    "from sklearn.preprocessing import LabelEncoder\n",
    "from sklearn.ensemble import RandomForestClassifier"
   ]
  },
  {
   "cell_type": "code",
   "execution_count": 2,
   "metadata": {},
   "outputs": [],
   "source": [
    "GOUWENS_DIR = \"/external/rprshnas01/netdata_kcni/stlab/Public/AIBS_patchseq_2020/mouse/morphology/download.brainlib.org+8811/biccn/zeng/pseq/morph/200526/\"\n",
    "SCALA_DIR = \"/external/rprshnas01/netdata_kcni/stlab/Public/Scala_et_al_2020/mini-atlas/data/raw/morph/inhibitory\""
   ]
  },
  {
   "attachments": {},
   "cell_type": "markdown",
   "metadata": {},
   "source": [
    "## Understanding Gouwens and Scala Metadata"
   ]
  },
  {
   "cell_type": "code",
   "execution_count": 3,
   "metadata": {},
   "outputs": [],
   "source": [
    "gouwens_df = pd.read_csv('/nethome/kcni/aaulakh/morphology/metadata_gouwens.csv')\n",
    "scala_df = pd.read_csv('/nethome/kcni/aaulakh/morphology/metadata_scala.csv')"
   ]
  },
  {
   "cell_type": "code",
   "execution_count": 4,
   "metadata": {},
   "outputs": [
    {
     "name": "stdout",
     "output_type": "stream",
     "text": [
      "Value counts for Gouwens AIT2.3.1_alias\n",
      "corresponding_AIT2.3.1_alias\n",
      "Sst Calb2         321\n",
      "Sst Hpse          310\n",
      "Pvalb Reln        285\n",
      "Sst Rxfp1         239\n",
      "Lamp5 Lsp1        195\n",
      "Pvalb Sema3e      176\n",
      "Pvalb Tpbg        176\n",
      "Sncg Vip          174\n",
      " NA               165\n",
      "Vip Crispld2      155\n",
      "Lamp5 Plch2       150\n",
      "Sst Esm1          146\n",
      "Sst Tac2          141\n",
      "Sst Chodl         132\n",
      "Vip Lmo1          130\n",
      "Vip Ptprt         128\n",
      "Sst Tac1          117\n",
      "Sst Crhr2         116\n",
      "Vip Pygm           99\n",
      "Sst Myh8           79\n",
      "Lamp5 Ntn1         73\n",
      "Sst Mme            68\n",
      "Pvalb Akr1c18      64\n",
      "Vip Chat           63\n",
      "Pvalb Th           55\n",
      "Vip Col15a1        54\n",
      "Sncg Gpr50         49\n",
      "Sst Nts            47\n",
      "Pvalb Gabrg1       46\n",
      "Vip Rspo4          43\n",
      "Sst Crh            42\n",
      "Pvalb Calb1        38\n",
      "Sst Nr2f2          37\n",
      "Vip Arhgap36       36\n",
      "Serpinf1 Aqp5      34\n",
      "Vip Lect1          30\n",
      "Sst Chrna2         29\n",
      "Lamp5 Fam19a1      28\n",
      "Pvalb Gpr149       24\n",
      "Pvalb Vipr2        24\n",
      "Vip Igfbp4         20\n",
      "Vip Gpc3           20\n",
      "Lamp5 Lhx6         19\n",
      "Serpinf1 Clrn1     13\n",
      "Sncg Slc17a8       12\n",
      "Lamp5 Krt73        12\n",
      "Vip Rspo1          11\n",
      "Vip Igfbp6          8\n",
      "Meis2 Adamts19      1\n",
      "L2 3                1\n",
      "Name: count, dtype: int64\n"
     ]
    }
   ],
   "source": [
    "print(\"Value counts for Gouwens AIT2.3.1_alias\")\n",
    "print(gouwens_df['corresponding_AIT2.3.1_alias'].value_counts())"
   ]
  },
  {
   "cell_type": "code",
   "execution_count": 5,
   "metadata": {},
   "outputs": [
    {
     "name": "stdout",
     "output_type": "stream",
     "text": [
      "Value counts for Scala AIT2.3.1_alias\n",
      "corresponding_AIT2.3.1_alias\n",
      "Pvalb Reln       117\n",
      "L5 IT ALM         76\n",
      "L2.3 IT VISp      68\n",
      "Pvalb Tpbg        64\n",
      "L6 CT ALM         64\n",
      "Sst Calb2         63\n",
      "Sst Hpse          60\n",
      "Lamp5 Lsp1        47\n",
      "L6 IT VISp        36\n",
      "L4 IT VISp        35\n",
      "L5 PT ALM         34\n",
      "Pvalb Gpr149      32\n",
      "Vip Crispld2      29\n",
      "Pvalb Sema3e      28\n",
      "L6 CT VISp        25\n",
      "Sst Rxfp1         24\n",
      "L5 IT VISp        22\n",
      "Sst Nts           20\n",
      "Sst Chrna2        19\n",
      "Vip Lmo1          19\n",
      "Lamp5 Fam19a1     17\n",
      "L2.3 IT ALM       16\n",
      "Sst Tac1          16\n",
      "Vip Ptprt         16\n",
      "Vip Arhgap36      15\n",
      "L5 PT VISp        15\n",
      "Pvalb Vipr2       15\n",
      "Vip Col15a1       14\n",
      "Sst Tac2          14\n",
      "Vip Lect1         13\n",
      "Pvalb Akr1c18     13\n",
      "Sst Chodl         12\n",
      "Lamp5 Plch2       12\n",
      "Sncg Vip          11\n",
      "Vip Gpc3          11\n",
      "Sst Nr2f2         10\n",
      "Name: count, dtype: int64\n"
     ]
    }
   ],
   "source": [
    "print(\"Value counts for Scala AIT2.3.1_alias\")\n",
    "print(scala_df['corresponding_AIT2.3.1_alias'].value_counts())"
   ]
  },
  {
   "cell_type": "code",
   "execution_count": 6,
   "metadata": {},
   "outputs": [
    {
     "name": "stdout",
     "output_type": "stream",
     "text": [
      "Value counts for Gouwens Cluster Label\n",
      "cluster_label\n",
      "Sst         1824\n",
      "Pvalb        888\n",
      "Vip          797\n",
      "Lamp5        477\n",
      "Sncg         235\n",
      "Serpinf1      47\n",
      "Name: count, dtype: int64\n"
     ]
    }
   ],
   "source": [
    "print(\"Value counts for Gouwens Cluster Label\")\n",
    "print(gouwens_df['cluster_label'].value_counts())"
   ]
  },
  {
   "cell_type": "code",
   "execution_count": 7,
   "metadata": {},
   "outputs": [
    {
     "name": "stdout",
     "output_type": "stream",
     "text": [
      "Value counts for Scala Cluster label\n",
      "cluster_label\n",
      "Pvalb      269\n",
      "Sst        238\n",
      "Vip        117\n",
      "L5 IT       98\n",
      "L6 CT       89\n",
      "L2.3 IT     84\n",
      "Lamp5       76\n",
      "L5 PT       49\n",
      "L6 IT       36\n",
      "L4 IT       35\n",
      "Sncg        11\n",
      "Name: count, dtype: int64\n"
     ]
    }
   ],
   "source": [
    "print(\"Value counts for Scala Cluster label\")\n",
    "print(scala_df['cluster_label'].value_counts())"
   ]
  },
  {
   "cell_type": "markdown",
   "metadata": {},
   "source": [
    "## Random Forest Classifier (RFC) Baselines"
   ]
  },
  {
   "cell_type": "markdown",
   "metadata": {},
   "source": [
    "### Gouwens"
   ]
  },
  {
   "cell_type": "markdown",
   "metadata": {},
   "source": [
    "### Scala"
   ]
  },
  {
   "cell_type": "markdown",
   "metadata": {},
   "source": [
    "### Combined"
   ]
  }
 ],
 "metadata": {
  "kernelspec": {
   "display_name": "venv",
   "language": "python",
   "name": "python3"
  },
  "language_info": {
   "codemirror_mode": {
    "name": "ipython",
    "version": 3
   },
   "file_extension": ".py",
   "mimetype": "text/x-python",
   "name": "python",
   "nbconvert_exporter": "python",
   "pygments_lexer": "ipython3",
   "version": "3.11.3"
  },
  "orig_nbformat": 4
 },
 "nbformat": 4,
 "nbformat_minor": 2
}
